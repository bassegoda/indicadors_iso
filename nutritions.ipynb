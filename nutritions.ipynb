{
 "cells": [
  {
   "cell_type": "code",
   "execution_count": 1,
   "metadata": {},
   "outputs": [
    {
     "name": "stdout",
     "output_type": "stream",
     "text": [
      "<class 'pandas.core.frame.DataFrame'>\n",
      "RangeIndex: 33 entries, 0 to 32\n",
      "Data columns (total 5 columns):\n",
      " #   Column            Non-Null Count  Dtype         \n",
      "---  ------            --------------  -----         \n",
      " 0   episode_ref       33 non-null     int64         \n",
      " 1   start_date        33 non-null     datetime64[ns]\n",
      " 2   start_drug_date   33 non-null     datetime64[ns]\n",
      " 3   drug_descr        33 non-null     object        \n",
      " 4   hours_difference  33 non-null     int64         \n",
      "dtypes: datetime64[ns](2), int64(2), object(1)\n",
      "memory usage: 1.4+ KB\n"
     ]
    }
   ],
   "source": [
    "# Añado al sys.path el directorio raíz:\n",
    "import sys\n",
    "from pathlib import Path\n",
    "\n",
    "project_root = Path.cwd().parent\n",
    "sys.path.append(str(project_root))\n",
    "\n",
    "import pandas as pd\n",
    "import pandasql as ps\n",
    "import matplotlib.pyplot as plt\n",
    "from modulos.funciones import fun_con\n",
    "\n",
    "# Establezco configuración\n",
    "pd.set_option('display.max_columns', None) # all columns are shown\n",
    "pd.set_option('display.max_colwidth', None) # all cell content is shown\n",
    "\n",
    "with open('nutritions.sql', 'r') as file:\n",
    "    query = file.read()\n",
    "\n",
    "df = fun_con(query)\n",
    "\n",
    "df.info()\n",
    "\n"
   ]
  }
 ],
 "metadata": {
  "kernelspec": {
   "display_name": ".venv",
   "language": "python",
   "name": "python3"
  },
  "language_info": {
   "codemirror_mode": {
    "name": "ipython",
    "version": 3
   },
   "file_extension": ".py",
   "mimetype": "text/x-python",
   "name": "python",
   "nbconvert_exporter": "python",
   "pygments_lexer": "ipython3",
   "version": "3.13.0"
  }
 },
 "nbformat": 4,
 "nbformat_minor": 2
}
