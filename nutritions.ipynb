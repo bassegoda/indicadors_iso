{
 "cells": [
  {
   "cell_type": "code",
   "execution_count": 1,
   "metadata": {},
   "outputs": [],
   "source": [
    "# Añado al sys.path el directorio raíz:\n",
    "import sys\n",
    "import os\n",
    "\n",
    "current_dir = os.getcwd()\n",
    "project_root = os.path.abspath(os.path.join(current_dir, '..'))\n",
    "sys.path.append(project_root)\n",
    "\n",
    "# Importo librerías\n",
    "import pandas as pd\n",
    "import pandasql as ps\n",
    "import matplotlib.pyplot as plt\n",
    "from modulos.funciones import fun_con\n",
    "\n",
    "# Establezco configuración\n",
    "pd.set_option('display.max_columns', None) # all columns are shown\n",
    "pd.set_option('display.max_colwidth', None) # all cell content is shown"
   ]
  },
  {
   "cell_type": "code",
   "execution_count": 22,
   "metadata": {},
   "outputs": [],
   "source": [
    "query = \"\"\"\n",
    "WITH base_data AS (\n",
    "    -- Afegim duracio dels moviments i una columna amb la next_start_date: data del següent moviment dins del mateix episodi\n",
    "    WITH cte_with_durations AS (\n",
    "        SELECT \n",
    "            m.*,\n",
    "            TIMESTAMPDIFF(hour, m.start_date, m.end_date) AS horesingres,\n",
    "            LEAD(m.start_date) OVER (PARTITION BY m.episode_ref ORDER BY m.start_date) AS next_start_date\n",
    "        FROM \n",
    "            g_mov_events AS m\n",
    "        WHERE \n",
    "            (m.ou_loc_ref = 'I073' OR m.ou_loc_ref = 'E073')\n",
    "            AND m.start_date BETWEEN '2023-01-01 00:00:00' AND '2023-12-31 23:59:59'\n",
    "    \n",
    "            AND m.start_date != m.end_date \n",
    "            AND TIMESTAMPDIFF(hour, m.start_date, m.end_date) > 6\n",
    "    ),\n",
    "    cte_longest_stay AS (\n",
    "        SELECT \n",
    "            *,\n",
    "            ROW_NUMBER() OVER (PARTITION BY episode_ref ORDER BY horesingres DESC) AS rn_max_duration\n",
    "        FROM \n",
    "            cte_with_durations\n",
    "    ),\n",
    "    cte_filtered_movements AS (\n",
    "        SELECT \n",
    "            *\n",
    "        FROM \n",
    "            cte_with_durations\n",
    "        WHERE \n",
    "            end_date != next_start_date OR next_start_date IS NULL\n",
    "    )\n",
    "    SELECT \n",
    "        DISTINCT a.*\n",
    "    FROM \n",
    "        cte_filtered_movements AS a\n",
    "    LEFT JOIN \n",
    "        cte_longest_stay AS b\n",
    "    ON \n",
    "        a.episode_ref = b.episode_ref AND b.rn_max_duration = 1\n",
    "    WHERE \n",
    "        b.rn_max_duration = 1 OR a.end_date != a.next_start_date\n",
    "),\n",
    "deliriums AS ( \n",
    "\tSELECT episode_ref, descr\n",
    "    FROM g_rc_events\n",
    "    WHERE descr = 'Grado de delirio según escala CAM-ICU'\n",
    ")\n",
    "-- Join with other tables here\n",
    "SELECT \n",
    "\tbd.*\n",
    "FROM\n",
    "\tbase_data as bd\n",
    "\"\"\"\n",
    "\n",
    "df_query = fun_con(query)"
   ]
  },
  {
   "cell_type": "code",
   "execution_count": 23,
   "metadata": {},
   "outputs": [
    {
     "data": {
      "text/plain": [
       "288"
      ]
     },
     "execution_count": 23,
     "metadata": {},
     "output_type": "execute_result"
    }
   ],
   "source": [
    "df_query[\"patient_ref\"].nunique()"
   ]
  },
  {
   "cell_type": "code",
   "execution_count": null,
   "metadata": {},
   "outputs": [],
   "source": []
  }
 ],
 "metadata": {
  "kernelspec": {
   "display_name": ".venv",
   "language": "python",
   "name": "python3"
  },
  "language_info": {
   "codemirror_mode": {
    "name": "ipython",
    "version": 3
   },
   "file_extension": ".py",
   "mimetype": "text/x-python",
   "name": "python",
   "nbconvert_exporter": "python",
   "pygments_lexer": "ipython3",
   "version": "3.13.1"
  }
 },
 "nbformat": 4,
 "nbformat_minor": 2
}
