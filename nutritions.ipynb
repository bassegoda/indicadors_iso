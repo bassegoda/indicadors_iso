{
 "cells": [
  {
   "cell_type": "code",
   "execution_count": 1,
   "metadata": {},
   "outputs": [
    {
     "name": "stdout",
     "output_type": "stream",
     "text": [
      "<class 'pandas.core.frame.DataFrame'>\n",
      "RangeIndex: 33 entries, 0 to 32\n",
      "Data columns (total 5 columns):\n",
      " #   Column            Non-Null Count  Dtype         \n",
      "---  ------            --------------  -----         \n",
      " 0   episode_ref       33 non-null     int64         \n",
      " 1   start_date        33 non-null     datetime64[ns]\n",
      " 2   start_drug_date   33 non-null     datetime64[ns]\n",
      " 3   drug_descr        33 non-null     object        \n",
      " 4   hours_difference  33 non-null     int64         \n",
      "dtypes: datetime64[ns](2), int64(2), object(1)\n",
      "memory usage: 1.4+ KB\n"
     ]
    }
   ],
   "source": [
    "# Añado al sys.path el directorio raíz:\n",
    "import sys\n",
    "from pathlib import Path\n",
    "\n",
    "project_root = Path.cwd().parent\n",
    "sys.path.append(str(project_root))\n",
    "\n",
    "import pandas as pd\n",
    "import pandasql as ps\n",
    "import matplotlib.pyplot as plt\n",
    "from modulos.funciones import fun_con\n",
    "\n",
    "# Establezco configuración\n",
    "pd.set_option('display.max_columns', None) # all columns are shown\n",
    "pd.set_option('display.max_colwidth', None) # all cell content is shown\n",
    "\n",
    "with open('nutritions.sql', 'r') as file:\n",
    "    query = file.read()\n",
    "\n",
    "df = fun_con(query)\n",
    "\n",
    "df.info()\n"
   ]
  },
  {
   "cell_type": "code",
   "execution_count": 5,
   "metadata": {},
   "outputs": [],
   "source": [
    "start_timeframe = input(\"Input the timeframe to analyze in SQL format 2023-07-12\")\n",
    "end_timeframe = input(\"Input the timeframe to analyze in SQL format 2023-07-12\")\n",
    "unit1 = input(\"Enter the unit you want to analyze\")\n",
    "unit2 = input(\"Enter the second unit you want to analyze\")\n"
   ]
  },
  {
   "cell_type": "code",
   "execution_count": 6,
   "metadata": {},
   "outputs": [
    {
     "name": "stdout",
     "output_type": "stream",
     "text": [
      "<class 'pandas.core.frame.DataFrame'>\n",
      "RangeIndex: 37 entries, 0 to 36\n",
      "Data columns (total 5 columns):\n",
      " #   Column            Non-Null Count  Dtype         \n",
      "---  ------            --------------  -----         \n",
      " 0   episode_ref       37 non-null     int64         \n",
      " 1   start_date        37 non-null     datetime64[ns]\n",
      " 2   start_drug_date   37 non-null     datetime64[ns]\n",
      " 3   drug_descr        37 non-null     object        \n",
      " 4   hours_difference  37 non-null     int64         \n",
      "dtypes: datetime64[ns](2), int64(2), object(1)\n",
      "memory usage: 1.6+ KB\n"
     ]
    }
   ],
   "source": [
    "query = f\"\"\"\n",
    "\n",
    "WITH movement_data AS (\n",
    "    SELECT \n",
    "        m.patient_ref,\n",
    "        m.episode_ref,\n",
    "        m.start_date,\n",
    "        m.end_date,\n",
    "        TIMESTAMPDIFF(hour, m.start_date, m.end_date) AS horesingres,\n",
    "        LEAD(m.start_date) OVER (PARTITION BY m.episode_ref ORDER BY m.start_date) AS next_start_date\n",
    "    FROM\n",
    "        g_mov_events AS m\n",
    "    WHERE \n",
    "        ou_loc_ref IN ('{unit1}', '{unit2}') \n",
    "        AND start_date BETWEEN '{start_timeframe} 00:00:00' AND '{end_timeframe} 23:59:59'\n",
    "        AND m.start_date != m.end_date\n",
    "        AND TIMESTAMPDIFF(hour, m.start_date, m.end_date) > 1\n",
    "),\n",
    "fc AS (\n",
    "    SELECT *\n",
    "    FROM movement_data\n",
    "    WHERE next_start_date IS NULL\n",
    "       OR end_date != next_start_date\n",
    "),\n",
    "fc_with_drugs AS (\n",
    "    SELECT \n",
    "        fc.episode_ref, \n",
    "        fc.start_date, \n",
    "        pe.start_drug_date, \n",
    "        pe.drug_descr,\n",
    "        ROW_NUMBER() OVER (PARTITION BY fc.episode_ref ORDER BY pe.start_drug_date ASC) AS rn\n",
    "    FROM \n",
    "        fc\n",
    "    INNER JOIN \n",
    "        g_prescription_events AS pe\n",
    "    ON \n",
    "        fc.episode_ref = pe.episode_ref\n",
    "    WHERE \n",
    "        pe.drug_descr IN ('NUTRICION ENTERAL', 'NUTRICIÓN PARENTERAL CENTRAL')\n",
    ")\n",
    "SELECT \n",
    "    episode_ref, \n",
    "    start_date, \n",
    "    start_drug_date, \n",
    "    drug_descr, \n",
    "    TIMESTAMPDIFF(hour, start_date, start_drug_date) AS hours_difference\n",
    "FROM \n",
    "    fc_with_drugs\n",
    "WHERE \n",
    "    rn = 1\n",
    "    AND TIMESTAMPDIFF(hour, start_date, start_drug_date) > 0\n",
    "ORDER BY \n",
    "    episode_ref, start_date;\n",
    "\n",
    "\"\"\"\n",
    "\n",
    "df = fun_con(query)\n",
    "\n",
    "df.info()"
   ]
  },
  {
   "cell_type": "code",
   "execution_count": 7,
   "metadata": {},
   "outputs": [
    {
     "name": "stdout",
     "output_type": "stream",
     "text": [
      "El percentatge de nutris enterals és de 37.84 %\n",
      "El percentatge de nutris parenterals és de 62.16 %\n"
     ]
    }
   ],
   "source": [
    "enterals = df.loc[df['drug_descr'] == 'NUTRICION ENTERAL', 'drug_descr'].count()\n",
    "parenterals = df.loc[df['drug_descr'] == 'NUTRICIÓN PARENTERAL CENTRAL', 'drug_descr'].count()\n",
    "nutri_totals = len(df)\n",
    "perc_enterals = enterals / nutri_totals *100\n",
    "perc_parenterals = parenterals / nutri_totals *100\n",
    "print(f\"El percentatge de nutris enterals és de {perc_enterals.round(2)} %\")\n",
    "print(\"El percentatge de nutris parenterals és de {} %\".format(perc_parenterals.round(2)))"
   ]
  },
  {
   "cell_type": "code",
   "execution_count": 8,
   "metadata": {},
   "outputs": [
    {
     "name": "stdout",
     "output_type": "stream",
     "text": [
      "El temps fins l'inici de la nutrició enteral és de 70.0 hores\n",
      "El temps fins l'inici de la nutrició parenteral és de 76.0 hores\n"
     ]
    }
   ],
   "source": [
    "temps_enteral = df.loc[df['drug_descr'] == 'NUTRICION ENTERAL', 'hours_difference'].mean()\n",
    "temps_parenteral = df.loc[df['drug_descr'] == 'NUTRICIÓN PARENTERAL CENTRAL', 'hours_difference'].mean()\n",
    "print(\"El temps fins l'inici de la nutrició enteral és de {} hores\".format(temps_enteral.round()))\n",
    "print(\"El temps fins l'inici de la nutrició parenteral és de {} hores\".format(temps_parenteral.round()))"
   ]
  }
 ],
 "metadata": {
  "kernelspec": {
   "display_name": ".venv",
   "language": "python",
   "name": "python3"
  },
  "language_info": {
   "codemirror_mode": {
    "name": "ipython",
    "version": 3
   },
   "file_extension": ".py",
   "mimetype": "text/x-python",
   "name": "python",
   "nbconvert_exporter": "python",
   "pygments_lexer": "ipython3",
   "version": "3.13.0"
  }
 },
 "nbformat": 4,
 "nbformat_minor": 2
}
